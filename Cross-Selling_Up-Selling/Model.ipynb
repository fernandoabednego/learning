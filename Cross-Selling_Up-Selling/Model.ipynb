{
 "cells": [
  {
   "cell_type": "code",
   "execution_count": 1,
   "id": "86ec67ed",
   "metadata": {},
   "outputs": [],
   "source": [
    "import pandas as pd\n",
    "from sklearn.model_selection import train_test_split\n",
    "from sklearn.metrics import precision_recall_fscore_support as score"
   ]
  },
  {
   "cell_type": "code",
   "execution_count": 113,
   "id": "000c8c4f",
   "metadata": {
    "scrolled": true
   },
   "outputs": [
    {
     "data": {
      "text/html": [
       "<div>\n",
       "<style scoped>\n",
       "    .dataframe tbody tr th:only-of-type {\n",
       "        vertical-align: middle;\n",
       "    }\n",
       "\n",
       "    .dataframe tbody tr th {\n",
       "        vertical-align: top;\n",
       "    }\n",
       "\n",
       "    .dataframe thead th {\n",
       "        text-align: right;\n",
       "    }\n",
       "</style>\n",
       "<table border=\"1\" class=\"dataframe\">\n",
       "  <thead>\n",
       "    <tr style=\"text-align: right;\">\n",
       "      <th></th>\n",
       "      <th>CustomerID</th>\n",
       "      <th>Age</th>\n",
       "      <th>Gender</th>\n",
       "      <th>Number_of_Transactions</th>\n",
       "      <th>Average_Transaction_Value</th>\n",
       "      <th>Last_Purchase_Days_Ago</th>\n",
       "      <th>Product_Category</th>\n",
       "      <th>Total_Spending</th>\n",
       "      <th>Cross_Sell</th>\n",
       "    </tr>\n",
       "  </thead>\n",
       "  <tbody>\n",
       "    <tr>\n",
       "      <th>0</th>\n",
       "      <td>4a17db2f-695a-4101-bace-5c7156774bbe</td>\n",
       "      <td>56</td>\n",
       "      <td>Male</td>\n",
       "      <td>17</td>\n",
       "      <td>29.404205</td>\n",
       "      <td>200</td>\n",
       "      <td>Home</td>\n",
       "      <td>813.210552</td>\n",
       "      <td>1</td>\n",
       "    </tr>\n",
       "    <tr>\n",
       "      <th>1</th>\n",
       "      <td>09ab7872-7c12-4ef9-9895-1e20eca88ad6</td>\n",
       "      <td>69</td>\n",
       "      <td>Female</td>\n",
       "      <td>15</td>\n",
       "      <td>37.197897</td>\n",
       "      <td>35</td>\n",
       "      <td>Books</td>\n",
       "      <td>76.460661</td>\n",
       "      <td>1</td>\n",
       "    </tr>\n",
       "    <tr>\n",
       "      <th>2</th>\n",
       "      <td>9eb309fa-b7d9-4c43-a2ae-d8439b6d19d3</td>\n",
       "      <td>46</td>\n",
       "      <td>Female</td>\n",
       "      <td>6</td>\n",
       "      <td>138.596000</td>\n",
       "      <td>2</td>\n",
       "      <td>Books</td>\n",
       "      <td>547.106804</td>\n",
       "      <td>1</td>\n",
       "    </tr>\n",
       "    <tr>\n",
       "      <th>3</th>\n",
       "      <td>5a443c5f-08b6-496d-9463-037e13dfe076</td>\n",
       "      <td>32</td>\n",
       "      <td>Male</td>\n",
       "      <td>16</td>\n",
       "      <td>136.480027</td>\n",
       "      <td>289</td>\n",
       "      <td>Clothing</td>\n",
       "      <td>1834.084330</td>\n",
       "      <td>1</td>\n",
       "    </tr>\n",
       "    <tr>\n",
       "      <th>4</th>\n",
       "      <td>178a502d-6d52-477f-a74b-039611e4e238</td>\n",
       "      <td>60</td>\n",
       "      <td>Male</td>\n",
       "      <td>17</td>\n",
       "      <td>25.949395</td>\n",
       "      <td>332</td>\n",
       "      <td>Beauty</td>\n",
       "      <td>1390.707408</td>\n",
       "      <td>1</td>\n",
       "    </tr>\n",
       "  </tbody>\n",
       "</table>\n",
       "</div>"
      ],
      "text/plain": [
       "                             CustomerID  Age  Gender  Number_of_Transactions  \\\n",
       "0  4a17db2f-695a-4101-bace-5c7156774bbe   56    Male                      17   \n",
       "1  09ab7872-7c12-4ef9-9895-1e20eca88ad6   69  Female                      15   \n",
       "2  9eb309fa-b7d9-4c43-a2ae-d8439b6d19d3   46  Female                       6   \n",
       "3  5a443c5f-08b6-496d-9463-037e13dfe076   32    Male                      16   \n",
       "4  178a502d-6d52-477f-a74b-039611e4e238   60    Male                      17   \n",
       "\n",
       "   Average_Transaction_Value  Last_Purchase_Days_Ago Product_Category  \\\n",
       "0                  29.404205                     200             Home   \n",
       "1                  37.197897                      35            Books   \n",
       "2                 138.596000                       2            Books   \n",
       "3                 136.480027                     289         Clothing   \n",
       "4                  25.949395                     332           Beauty   \n",
       "\n",
       "   Total_Spending  Cross_Sell  \n",
       "0      813.210552           1  \n",
       "1       76.460661           1  \n",
       "2      547.106804           1  \n",
       "3     1834.084330           1  \n",
       "4     1390.707408           1  "
      ]
     },
     "execution_count": 113,
     "metadata": {},
     "output_type": "execute_result"
    }
   ],
   "source": [
    "complex_data = pd.read_csv('complex_synthetic_cross_sell_dataset_with_customerID.csv')\n",
    "complex_data.head()"
   ]
  },
  {
   "cell_type": "markdown",
   "id": "a8867a99",
   "metadata": {},
   "source": [
    "### Gender and Product Cat Mapping"
   ]
  },
  {
   "cell_type": "code",
   "execution_count": 114,
   "id": "77cf2ad8",
   "metadata": {
    "scrolled": true
   },
   "outputs": [
    {
     "data": {
      "text/html": [
       "<div>\n",
       "<style scoped>\n",
       "    .dataframe tbody tr th:only-of-type {\n",
       "        vertical-align: middle;\n",
       "    }\n",
       "\n",
       "    .dataframe tbody tr th {\n",
       "        vertical-align: top;\n",
       "    }\n",
       "\n",
       "    .dataframe thead th {\n",
       "        text-align: right;\n",
       "    }\n",
       "</style>\n",
       "<table border=\"1\" class=\"dataframe\">\n",
       "  <thead>\n",
       "    <tr style=\"text-align: right;\">\n",
       "      <th></th>\n",
       "      <th>CustomerID</th>\n",
       "      <th>Age</th>\n",
       "      <th>Gender</th>\n",
       "      <th>Number_of_Transactions</th>\n",
       "      <th>Average_Transaction_Value</th>\n",
       "      <th>Last_Purchase_Days_Ago</th>\n",
       "      <th>Product_Category</th>\n",
       "      <th>Total_Spending</th>\n",
       "      <th>Cross_Sell</th>\n",
       "    </tr>\n",
       "  </thead>\n",
       "  <tbody>\n",
       "    <tr>\n",
       "      <th>0</th>\n",
       "      <td>4a17db2f-695a-4101-bace-5c7156774bbe</td>\n",
       "      <td>56</td>\n",
       "      <td>1</td>\n",
       "      <td>17</td>\n",
       "      <td>29.404205</td>\n",
       "      <td>200</td>\n",
       "      <td>4</td>\n",
       "      <td>813.210552</td>\n",
       "      <td>1</td>\n",
       "    </tr>\n",
       "    <tr>\n",
       "      <th>1</th>\n",
       "      <td>09ab7872-7c12-4ef9-9895-1e20eca88ad6</td>\n",
       "      <td>69</td>\n",
       "      <td>0</td>\n",
       "      <td>15</td>\n",
       "      <td>37.197897</td>\n",
       "      <td>35</td>\n",
       "      <td>3</td>\n",
       "      <td>76.460661</td>\n",
       "      <td>1</td>\n",
       "    </tr>\n",
       "    <tr>\n",
       "      <th>2</th>\n",
       "      <td>9eb309fa-b7d9-4c43-a2ae-d8439b6d19d3</td>\n",
       "      <td>46</td>\n",
       "      <td>0</td>\n",
       "      <td>6</td>\n",
       "      <td>138.596000</td>\n",
       "      <td>2</td>\n",
       "      <td>3</td>\n",
       "      <td>547.106804</td>\n",
       "      <td>1</td>\n",
       "    </tr>\n",
       "    <tr>\n",
       "      <th>3</th>\n",
       "      <td>5a443c5f-08b6-496d-9463-037e13dfe076</td>\n",
       "      <td>32</td>\n",
       "      <td>1</td>\n",
       "      <td>16</td>\n",
       "      <td>136.480027</td>\n",
       "      <td>289</td>\n",
       "      <td>2</td>\n",
       "      <td>1834.084330</td>\n",
       "      <td>1</td>\n",
       "    </tr>\n",
       "    <tr>\n",
       "      <th>4</th>\n",
       "      <td>178a502d-6d52-477f-a74b-039611e4e238</td>\n",
       "      <td>60</td>\n",
       "      <td>1</td>\n",
       "      <td>17</td>\n",
       "      <td>25.949395</td>\n",
       "      <td>332</td>\n",
       "      <td>5</td>\n",
       "      <td>1390.707408</td>\n",
       "      <td>1</td>\n",
       "    </tr>\n",
       "    <tr>\n",
       "      <th>...</th>\n",
       "      <td>...</td>\n",
       "      <td>...</td>\n",
       "      <td>...</td>\n",
       "      <td>...</td>\n",
       "      <td>...</td>\n",
       "      <td>...</td>\n",
       "      <td>...</td>\n",
       "      <td>...</td>\n",
       "      <td>...</td>\n",
       "    </tr>\n",
       "    <tr>\n",
       "      <th>4995</th>\n",
       "      <td>e0b11833-073a-48ff-84ff-32fd6a60b50a</td>\n",
       "      <td>24</td>\n",
       "      <td>1</td>\n",
       "      <td>17</td>\n",
       "      <td>188.566985</td>\n",
       "      <td>7</td>\n",
       "      <td>2</td>\n",
       "      <td>59.302000</td>\n",
       "      <td>0</td>\n",
       "    </tr>\n",
       "    <tr>\n",
       "      <th>4996</th>\n",
       "      <td>23eb2e4f-bd6e-4389-9286-31ea2a02052f</td>\n",
       "      <td>66</td>\n",
       "      <td>0</td>\n",
       "      <td>5</td>\n",
       "      <td>192.755379</td>\n",
       "      <td>199</td>\n",
       "      <td>4</td>\n",
       "      <td>179.978404</td>\n",
       "      <td>0</td>\n",
       "    </tr>\n",
       "    <tr>\n",
       "      <th>4997</th>\n",
       "      <td>ee8cb680-2424-4c6d-b04f-b7081f68ebeb</td>\n",
       "      <td>26</td>\n",
       "      <td>0</td>\n",
       "      <td>12</td>\n",
       "      <td>194.414263</td>\n",
       "      <td>91</td>\n",
       "      <td>2</td>\n",
       "      <td>93.659347</td>\n",
       "      <td>0</td>\n",
       "    </tr>\n",
       "    <tr>\n",
       "      <th>4998</th>\n",
       "      <td>c62dbea0-6ac2-4713-b234-dfbe1a984956</td>\n",
       "      <td>53</td>\n",
       "      <td>0</td>\n",
       "      <td>9</td>\n",
       "      <td>132.615493</td>\n",
       "      <td>147</td>\n",
       "      <td>2</td>\n",
       "      <td>1557.667845</td>\n",
       "      <td>1</td>\n",
       "    </tr>\n",
       "    <tr>\n",
       "      <th>4999</th>\n",
       "      <td>c63acb9e-7062-40e6-9fc3-f078a98c066f</td>\n",
       "      <td>36</td>\n",
       "      <td>0</td>\n",
       "      <td>13</td>\n",
       "      <td>89.248097</td>\n",
       "      <td>150</td>\n",
       "      <td>5</td>\n",
       "      <td>205.569267</td>\n",
       "      <td>0</td>\n",
       "    </tr>\n",
       "  </tbody>\n",
       "</table>\n",
       "<p>5000 rows × 9 columns</p>\n",
       "</div>"
      ],
      "text/plain": [
       "                                CustomerID  Age  Gender  \\\n",
       "0     4a17db2f-695a-4101-bace-5c7156774bbe   56       1   \n",
       "1     09ab7872-7c12-4ef9-9895-1e20eca88ad6   69       0   \n",
       "2     9eb309fa-b7d9-4c43-a2ae-d8439b6d19d3   46       0   \n",
       "3     5a443c5f-08b6-496d-9463-037e13dfe076   32       1   \n",
       "4     178a502d-6d52-477f-a74b-039611e4e238   60       1   \n",
       "...                                    ...  ...     ...   \n",
       "4995  e0b11833-073a-48ff-84ff-32fd6a60b50a   24       1   \n",
       "4996  23eb2e4f-bd6e-4389-9286-31ea2a02052f   66       0   \n",
       "4997  ee8cb680-2424-4c6d-b04f-b7081f68ebeb   26       0   \n",
       "4998  c62dbea0-6ac2-4713-b234-dfbe1a984956   53       0   \n",
       "4999  c63acb9e-7062-40e6-9fc3-f078a98c066f   36       0   \n",
       "\n",
       "      Number_of_Transactions  Average_Transaction_Value  \\\n",
       "0                         17                  29.404205   \n",
       "1                         15                  37.197897   \n",
       "2                          6                 138.596000   \n",
       "3                         16                 136.480027   \n",
       "4                         17                  25.949395   \n",
       "...                      ...                        ...   \n",
       "4995                      17                 188.566985   \n",
       "4996                       5                 192.755379   \n",
       "4997                      12                 194.414263   \n",
       "4998                       9                 132.615493   \n",
       "4999                      13                  89.248097   \n",
       "\n",
       "      Last_Purchase_Days_Ago  Product_Category  Total_Spending  Cross_Sell  \n",
       "0                        200                 4      813.210552           1  \n",
       "1                         35                 3       76.460661           1  \n",
       "2                          2                 3      547.106804           1  \n",
       "3                        289                 2     1834.084330           1  \n",
       "4                        332                 5     1390.707408           1  \n",
       "...                      ...               ...             ...         ...  \n",
       "4995                       7                 2       59.302000           0  \n",
       "4996                     199                 4      179.978404           0  \n",
       "4997                      91                 2       93.659347           0  \n",
       "4998                     147                 2     1557.667845           1  \n",
       "4999                     150                 5      205.569267           0  \n",
       "\n",
       "[5000 rows x 9 columns]"
      ]
     },
     "execution_count": 114,
     "metadata": {},
     "output_type": "execute_result"
    }
   ],
   "source": [
    "def convert_gender(gender):\n",
    "    return 1 if gender=='Male' else 0\n",
    "\n",
    "prodcat_mapping = {'Electronics': 1,\n",
    "                  'Clothing': 2,\n",
    "                  'Books': 3,\n",
    "                  'Home': 4,\n",
    "                  'Beauty': 5}\n",
    "complex_data['Product_Category'] = complex_data['Product_Category'].map(prodcat_mapping)\n",
    "\n",
    "complex_data['Gender'] = complex_data['Gender'].apply(lambda x: convert_gender(x))\n",
    "complex_data"
   ]
  },
  {
   "cell_type": "markdown",
   "id": "21e77fb2",
   "metadata": {},
   "source": [
    "### Train the Model"
   ]
  },
  {
   "cell_type": "code",
   "execution_count": 115,
   "id": "c1717e87",
   "metadata": {},
   "outputs": [],
   "source": [
    "X = data.drop('Cross_Sell', axis=1)\n",
    "y = data['Cross_Sell']\n",
    "X_train, X_test, y_train, y_test = train_test_split(X, y, test_size=0.2, random_state=42)"
   ]
  },
  {
   "cell_type": "markdown",
   "id": "fc32db87",
   "metadata": {},
   "source": [
    "#### Logistic Regression"
   ]
  },
  {
   "cell_type": "code",
   "execution_count": 126,
   "id": "22bd3a9f",
   "metadata": {},
   "outputs": [
    {
     "name": "stdout",
     "output_type": "stream",
     "text": [
      "Precision: 0.591 / Recall: 0.517 / FScore: 0.551 / Accuracy: 0.608\n"
     ]
    }
   ],
   "source": [
    "from sklearn.linear_model import LogisticRegression\n",
    "lr = LogisticRegression(random_state=42)\n",
    "lr_model = lr.fit(X_train, y_train)\n",
    "y_pred = lr_model.predict(X_test)\n",
    "precision, recall, fscore, support = score(y_test, y_pred, pos_label=1, average='binary')\n",
    "print('Precision: {} / Recall: {} / FScore: {} / Accuracy: {}'.format(\n",
    "    round(precision, 3), round(recall, 3), round(fscore, 3), round((y_pred==y_test).sum()/len(y_pred), 3)))"
   ]
  },
  {
   "cell_type": "markdown",
   "id": "1b0a46aa",
   "metadata": {},
   "source": [
    "#### Random Forest"
   ]
  },
  {
   "cell_type": "code",
   "execution_count": 125,
   "id": "6da0ee27",
   "metadata": {},
   "outputs": [
    {
     "name": "stdout",
     "output_type": "stream",
     "text": [
      "Precision: 0.542 / Recall: 0.493 / FScore: 0.516 / Accuracy: 0.569\n"
     ]
    }
   ],
   "source": [
    "from sklearn.ensemble import RandomForestClassifier\n",
    "rf = RandomForestClassifier(n_estimators=100, max_depth=None, n_jobs=-1)\n",
    "\n",
    "rf_model = rf.fit(X_train, y_train)\n",
    "\n",
    "y_pred = rf_model.predict(X_test)\n",
    "precision, recall, fscore, support = score(y_test, y_pred, pos_label=1, average='binary')\n",
    "print('Precision: {} / Recall: {} / FScore: {} / Accuracy: {}'.format(\n",
    "    round(precision, 3), round(recall, 3), round(fscore, 3), round((y_pred==y_test).sum()/len(y_pred), 3)))"
   ]
  },
  {
   "cell_type": "markdown",
   "id": "6c1f24a2",
   "metadata": {},
   "source": [
    "### Save the Model"
   ]
  },
  {
   "cell_type": "code",
   "execution_count": 120,
   "id": "313742eb",
   "metadata": {},
   "outputs": [
    {
     "data": {
      "text/plain": [
       "['cross_sell_model.pkl']"
      ]
     },
     "execution_count": 120,
     "metadata": {},
     "output_type": "execute_result"
    }
   ],
   "source": [
    "import joblib\n",
    "joblib.dump(model, 'cross_sell_model.pkl')"
   ]
  },
  {
   "cell_type": "markdown",
   "id": "4edd1013",
   "metadata": {},
   "source": [
    "### Make Predictions"
   ]
  },
  {
   "cell_type": "code",
   "execution_count": 121,
   "id": "c49d054e",
   "metadata": {},
   "outputs": [],
   "source": [
    "loaded_model = joblib.load('cross_sell_model.pkl')\n",
    "new_data = pd.read_csv('synthetic_cross_sell_dataset_new.csv')\n",
    "X = new_data.drop('Cross_Sell', axis=1)\n",
    "y = new_data['Cross_Sell']\n",
    "X_train, X_test, y_train, y_test = train_test_split(X, y, test_size=0.2, random_state=42)\n",
    "new_predictions = loaded_model.predict(X_test)"
   ]
  },
  {
   "cell_type": "code",
   "execution_count": 122,
   "id": "5fe8e3b3",
   "metadata": {},
   "outputs": [
    {
     "data": {
      "text/html": [
       "<div>\n",
       "<style scoped>\n",
       "    .dataframe tbody tr th:only-of-type {\n",
       "        vertical-align: middle;\n",
       "    }\n",
       "\n",
       "    .dataframe tbody tr th {\n",
       "        vertical-align: top;\n",
       "    }\n",
       "\n",
       "    .dataframe thead th {\n",
       "        text-align: right;\n",
       "    }\n",
       "</style>\n",
       "<table border=\"1\" class=\"dataframe\">\n",
       "  <thead>\n",
       "    <tr style=\"text-align: right;\">\n",
       "      <th></th>\n",
       "      <th>0</th>\n",
       "    </tr>\n",
       "  </thead>\n",
       "  <tbody>\n",
       "    <tr>\n",
       "      <th>0</th>\n",
       "      <td>0</td>\n",
       "    </tr>\n",
       "    <tr>\n",
       "      <th>1</th>\n",
       "      <td>0</td>\n",
       "    </tr>\n",
       "    <tr>\n",
       "      <th>2</th>\n",
       "      <td>0</td>\n",
       "    </tr>\n",
       "    <tr>\n",
       "      <th>3</th>\n",
       "      <td>0</td>\n",
       "    </tr>\n",
       "    <tr>\n",
       "      <th>4</th>\n",
       "      <td>1</td>\n",
       "    </tr>\n",
       "  </tbody>\n",
       "</table>\n",
       "</div>"
      ],
      "text/plain": [
       "   0\n",
       "0  0\n",
       "1  0\n",
       "2  0\n",
       "3  0\n",
       "4  1"
      ]
     },
     "execution_count": 122,
     "metadata": {},
     "output_type": "execute_result"
    }
   ],
   "source": [
    "result = pd.DataFrame(new_predictions)\n",
    "result.head()"
   ]
  },
  {
   "cell_type": "markdown",
   "id": "06a0b8c1",
   "metadata": {},
   "source": [
    "## Train model"
   ]
  },
  {
   "cell_type": "code",
   "execution_count": 107,
   "id": "9603cb19",
   "metadata": {},
   "outputs": [],
   "source": [
    "X = complex_data.drop('Cross_Sell', axis=1)\n",
    "y = complex_data['Cross_Sell']"
   ]
  },
  {
   "cell_type": "code",
   "execution_count": 111,
   "id": "f21aaa22",
   "metadata": {},
   "outputs": [
    {
     "name": "stdout",
     "output_type": "stream",
     "text": [
      "Precision: 0.717 / Recall: 0.805 / FScore: 0.758 / Accuracy: 0.665\n"
     ]
    }
   ],
   "source": [
    "X_train, X_test, y_train, y_test = train_test_split(X, y, test_size=0.2)\n",
    "\n",
    "rf_model = rf.fit(X_train, y_train)\n",
    "\n",
    "y_pred = rf_model.predict(X_test)\n",
    "precision, recall, fscore, support = score(y_test, y_pred, pos_label=1, average='binary')\n",
    "print('Precision: {} / Recall: {} / FScore: {} / Accuracy: {}'.format(\n",
    "    round(precision, 3), round(recall, 3), round(fscore, 3), round((y_pred==y_test).sum()/len(y_pred), 3)))"
   ]
  },
  {
   "cell_type": "code",
   "execution_count": null,
   "id": "4728d1da",
   "metadata": {},
   "outputs": [],
   "source": []
  }
 ],
 "metadata": {
  "kernelspec": {
   "display_name": "Python 3 (ipykernel)",
   "language": "python",
   "name": "python3"
  },
  "language_info": {
   "codemirror_mode": {
    "name": "ipython",
    "version": 3
   },
   "file_extension": ".py",
   "mimetype": "text/x-python",
   "name": "python",
   "nbconvert_exporter": "python",
   "pygments_lexer": "ipython3",
   "version": "3.10.11"
  }
 },
 "nbformat": 4,
 "nbformat_minor": 5
}
